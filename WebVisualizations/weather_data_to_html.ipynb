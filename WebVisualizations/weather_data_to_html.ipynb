{
 "cells": [
  {
   "cell_type": "code",
   "execution_count": 2,
   "metadata": {},
   "outputs": [],
   "source": [
    "import pandas as pd"
   ]
  },
  {
   "cell_type": "code",
   "execution_count": 3,
   "metadata": {},
   "outputs": [],
   "source": [
    "df = pd.read_csv(\"weather_data.csv\")\n",
    "df.to_html('weather_data.html')"
   ]
  },
  {
   "cell_type": "code",
   "execution_count": 7,
   "metadata": {},
   "outputs": [
    {
     "name": "stdout",
     "output_type": "stream",
     "text": [
      "             City  Cloudiness Country        Date  Humidity    Lat    Long  \\\n",
      "0           arlit         100      NE  1566692800        63  18.74    7.39   \n",
      "1         rikitea          84      PF  1566692718        70 -23.12 -134.97   \n",
      "2            hilo          90      US  1566692754        65  19.71 -155.08   \n",
      "3         bontang          98      ID  1566692803        94   0.12  117.47   \n",
      "4    punta arenas          75      CL  1566692805        70 -53.16  -70.91   \n",
      "..            ...         ...     ...         ...       ...    ...     ...   \n",
      "547         molln          88      AT  1566693553        82  47.89   14.26   \n",
      "548        harper          90      US  1566693554        69  30.30  -99.24   \n",
      "549      chenzhou          37      CN  1566693556        87  25.81  113.03   \n",
      "550       aquiraz          40      BR  1566693557        78  -3.90  -38.39   \n",
      "551        laguna          20      BZ  1566693558        79  16.17  -88.94   \n",
      "\n",
      "     Max Temp  Wind Speed  \n",
      "0       78.50       22.41  \n",
      "1       69.68       21.83  \n",
      "2       82.40       13.53  \n",
      "3       77.24        2.95  \n",
      "4       42.80       13.87  \n",
      "..        ...         ...  \n",
      "547     66.00        3.36  \n",
      "548     82.40       11.41  \n",
      "549     79.22        5.84  \n",
      "550     80.60       14.99  \n",
      "551     84.20        4.70  \n",
      "\n",
      "[552 rows x 9 columns]\n"
     ]
    }
   ],
   "source": [
    "print(df)"
   ]
  },
  {
   "cell_type": "code",
   "execution_count": null,
   "metadata": {},
   "outputs": [],
   "source": []
  }
 ],
 "metadata": {
  "kernelspec": {
   "display_name": "Python 3",
   "language": "python",
   "name": "python3"
  },
  "language_info": {
   "codemirror_mode": {
    "name": "ipython",
    "version": 3
   },
   "file_extension": ".py",
   "mimetype": "text/x-python",
   "name": "python",
   "nbconvert_exporter": "python",
   "pygments_lexer": "ipython3",
   "version": "3.7.4"
  }
 },
 "nbformat": 4,
 "nbformat_minor": 2
}
